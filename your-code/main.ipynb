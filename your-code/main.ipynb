{
 "cells": [
  {
   "cell_type": "markdown",
   "metadata": {},
   "source": [
    "# Challenge: Promotions\n",
    "\n",
    "In this challenge, you'll develop codes to parse and analyze data returned from another API on Zalando such as [Promos homme (Men's Promotions)\n",
    "](https://www.zalando.fr/promo-homme/) or [Promos femme (Women's Promotions)](https://www.zalando.fr/promo-femme/). The workflow is almost the same as in the guided lesson but you'll work with different data."
   ]
  },
  {
   "cell_type": "markdown",
   "metadata": {},
   "source": [
    "## Obtaining the link\n",
    "\n",
    "Wrote your codes in the cell below to obtain the data from the API endpoint you choose. A recap of the workflow:\n",
    "\n",
    "1. Examine the webpages and choose one that you want to work with.\n",
    "\n",
    "1. Use Google Chrome's DevTools to inspect the XHR network requests. Find out the API endpoint that serves data to the webpage.\n",
    "\n",
    "1. Test the API endpoint in the browser to verify its data.\n",
    "\n",
    "1. Change the page number offset of the API URL to test if it's working."
   ]
  },
  {
   "cell_type": "code",
   "execution_count": 1,
   "metadata": {
    "collapsed": true
   },
   "outputs": [],
   "source": [
    "url = 'https://www.zalando.fr/api/catalog/articles?categories=promo-femme&limit=84'"
   ]
  },
  {
   "cell_type": "code",
   "execution_count": 2,
   "metadata": {},
   "outputs": [],
   "source": [
    "headers = {\n",
    "    'Host': 'www.zalando.fr',\n",
    "    'Accept': '*/*',\n",
    "    'Cache-Control': 'no-cache',\n",
    "    'Accept-Encoding': 'gzip, deflate',\n",
    "    'Connection' : 'keep-alive',\n",
    "    'User-Agent':'PostmanRuntime/7.23.0'\n",
    "}"
   ]
  },
  {
   "cell_type": "markdown",
   "metadata": {},
   "source": [
    "## Reading the data\n",
    "\n",
    "In the next cell, use Python to obtain data from the API endpoint you chose in the previous step. Workflow:\n",
    "\n",
    "1. Import libraries.\n",
    "\n",
    "1. Define the initial API endpoint URL.\n",
    "\n",
    "1. Make request to obtain data of the 1st page. Flatten the data and store it in an empty object variable.\n",
    "\n",
    "1. Find out the total page count in the 1st page data.\n",
    "\n",
    "1. Use a FOR loop to make requests for the additional pages from 2 to page count. Append the data of each additional page to the flatterned data object.\n",
    "\n",
    "1. Print and review the data you obtained."
   ]
  },
  {
   "cell_type": "code",
   "execution_count": 3,
   "metadata": {},
   "outputs": [],
   "source": [
    "# 1. Import libraries.\n",
    "import json\n",
    "import requests\n",
    "import pandas as pd\n",
    "from pandas.io.json import json_normalize"
   ]
  },
  {
   "cell_type": "code",
   "execution_count": 4,
   "metadata": {},
   "outputs": [],
   "source": [
    "# 2. Define the initial API endpoint URL.\n",
    "url = 'https://www.zalando.fr/api/catalog/articles?categories=promo-femme&limit=84'"
   ]
  },
  {
   "cell_type": "code",
   "execution_count": 5,
   "metadata": {},
   "outputs": [],
   "source": [
    "# 3. Make request to obtain data of the 1st page. Flatten the data and store it in an empty object variable.\n",
    "response = requests.get(url, headers=headers).json()"
   ]
  },
  {
   "cell_type": "code",
   "execution_count": 6,
   "metadata": {},
   "outputs": [
    {
     "output_type": "execute_result",
     "data": {
      "text/plain": [
       "             sku                                               name  \\\n",
       "0  ES421I0H8-K11                                       Gilet - navy   \n",
       "1  LA251H01P-Q11                                       Cabas - noir   \n",
       "2  LE221G031-K11  ORIGINAL TRUCKER - Veste en jean - soft as but...   \n",
       "3  5VA51H0GE-B11                                  Sac à main - ecru   \n",
       "4  LE221N04U-Q11  MILE HIGH SUPER SKINNY - Jeans Skinny - black ...   \n",
       "\n",
       "                                               sizes  \\\n",
       "0                            [S, M, L, XL, XXL, 3XL]   \n",
       "1                                         [One Size]   \n",
       "2                             [XXS, XS, S, M, L, XL]   \n",
       "3                                         [One Size]   \n",
       "4  [23x28, 23x30, 24x28, 24x30, 24x32, 25x28, 25x...   \n",
       "\n",
       "                                             url_key  \\\n",
       "0  esprit-collection-cardigan-gilet-navy-es421i0h...   \n",
       "1                  lacoste-cabas-black-la251h01p-q11   \n",
       "2  levisr-original-trucker-veste-en-jean-soft-as-...   \n",
       "3  valentino-by-mario-valentino-sac-a-main-ecru-5...   \n",
       "4  levisr-mile-high-super-skinny-jeans-skinny-le2...   \n",
       "\n",
       "                                               media         brand_name  \\\n",
       "0  [{'path': 'spp-media-p1/de329d5209133039a649e3...  Esprit Collection   \n",
       "1  [{'path': 'spp-media-p1/9e976d99d30b39d98b4c59...            Lacoste   \n",
       "2  [{'path': 'spp-media-p1/b06b79cb3ac83c549f3008...            Levi's®   \n",
       "3  [{'path': 'spp-media-p1/77e0d3b36786329b8f4e3d...     Valentino Bags   \n",
       "4  [{'path': 'spp-media-p1/df7d6a01a4833214aa11c6...            Levi's®   \n",
       "\n",
       "   is_premium family_articles  \\\n",
       "0       False              []   \n",
       "1       False              []   \n",
       "2       False              []   \n",
       "3       False              []   \n",
       "4       False              []   \n",
       "\n",
       "                                               flags product_group  ...  \\\n",
       "0  [{'key': 'discountRate', 'value': '-30%', 'tra...      clothing  ...   \n",
       "1  [{'key': 'discountRate', 'value': '-30%', 'tra...   accessoires  ...   \n",
       "2  [{'key': 'discountRate', 'value': '-30%', 'tra...      clothing  ...   \n",
       "3  [{'key': 'discountRate', 'value': '-25%', 'tra...   accessoires  ...   \n",
       "4  [{'key': 'discountRate', 'value': '-30%', 'tra...      clothing  ...   \n",
       "\n",
       "  price.has_different_prices price.has_different_original_prices  \\\n",
       "0                      False                               False   \n",
       "1                      False                               False   \n",
       "2                      False                               False   \n",
       "3                      False                               False   \n",
       "4                      False                               False   \n",
       "\n",
       "  price.has_different_promotional_prices  \\\n",
       "0                                  False   \n",
       "1                                  False   \n",
       "2                                  False   \n",
       "3                                  False   \n",
       "4                                  False   \n",
       "\n",
       "   price.has_discount_on_selected_sizes_only  \\\n",
       "0                                      False   \n",
       "1                                      False   \n",
       "2                                      False   \n",
       "3                                      False   \n",
       "4                                      False   \n",
       "\n",
       "        tracking_information.metrigo_impression_urls  \\\n",
       "0  [https://ccp-et.adtechlab.zalan.do/event/sbv?z...   \n",
       "1                                                NaN   \n",
       "2                                                NaN   \n",
       "3                                                NaN   \n",
       "4                                                NaN   \n",
       "\n",
       "              tracking_information.impression_beacon  \\\n",
       "0  https://ccp-et.adtechlab.zalan.do/event/sbv?z=...   \n",
       "1                                                NaN   \n",
       "2                                                NaN   \n",
       "3                                                NaN   \n",
       "4                                                NaN   \n",
       "\n",
       "   tracking_information.source  \\\n",
       "0                          ccp   \n",
       "1                          NaN   \n",
       "2                          NaN   \n",
       "3                          NaN   \n",
       "4                          NaN   \n",
       "\n",
       "                                             outfits amount price.base_price  \n",
       "0                                                NaN    NaN              NaN  \n",
       "1                                                NaN    NaN              NaN  \n",
       "2  [{'id': 'z7fZ7k9yR-q', 'url_key': '/outfits/z7...    NaN              NaN  \n",
       "3                                                NaN    NaN              NaN  \n",
       "4  [{'id': 'AThyCLljTFy', 'url_key': '/outfits/AT...    NaN              NaN  \n",
       "\n",
       "[5 rows x 23 columns]"
      ],
      "text/html": "<div>\n<style scoped>\n    .dataframe tbody tr th:only-of-type {\n        vertical-align: middle;\n    }\n\n    .dataframe tbody tr th {\n        vertical-align: top;\n    }\n\n    .dataframe thead th {\n        text-align: right;\n    }\n</style>\n<table border=\"1\" class=\"dataframe\">\n  <thead>\n    <tr style=\"text-align: right;\">\n      <th></th>\n      <th>sku</th>\n      <th>name</th>\n      <th>sizes</th>\n      <th>url_key</th>\n      <th>media</th>\n      <th>brand_name</th>\n      <th>is_premium</th>\n      <th>family_articles</th>\n      <th>flags</th>\n      <th>product_group</th>\n      <th>...</th>\n      <th>price.has_different_prices</th>\n      <th>price.has_different_original_prices</th>\n      <th>price.has_different_promotional_prices</th>\n      <th>price.has_discount_on_selected_sizes_only</th>\n      <th>tracking_information.metrigo_impression_urls</th>\n      <th>tracking_information.impression_beacon</th>\n      <th>tracking_information.source</th>\n      <th>outfits</th>\n      <th>amount</th>\n      <th>price.base_price</th>\n    </tr>\n  </thead>\n  <tbody>\n    <tr>\n      <th>0</th>\n      <td>ES421I0H8-K11</td>\n      <td>Gilet - navy</td>\n      <td>[S, M, L, XL, XXL, 3XL]</td>\n      <td>esprit-collection-cardigan-gilet-navy-es421i0h...</td>\n      <td>[{'path': 'spp-media-p1/de329d5209133039a649e3...</td>\n      <td>Esprit Collection</td>\n      <td>False</td>\n      <td>[]</td>\n      <td>[{'key': 'discountRate', 'value': '-30%', 'tra...</td>\n      <td>clothing</td>\n      <td>...</td>\n      <td>False</td>\n      <td>False</td>\n      <td>False</td>\n      <td>False</td>\n      <td>[https://ccp-et.adtechlab.zalan.do/event/sbv?z...</td>\n      <td>https://ccp-et.adtechlab.zalan.do/event/sbv?z=...</td>\n      <td>ccp</td>\n      <td>NaN</td>\n      <td>NaN</td>\n      <td>NaN</td>\n    </tr>\n    <tr>\n      <th>1</th>\n      <td>LA251H01P-Q11</td>\n      <td>Cabas - noir</td>\n      <td>[One Size]</td>\n      <td>lacoste-cabas-black-la251h01p-q11</td>\n      <td>[{'path': 'spp-media-p1/9e976d99d30b39d98b4c59...</td>\n      <td>Lacoste</td>\n      <td>False</td>\n      <td>[]</td>\n      <td>[{'key': 'discountRate', 'value': '-30%', 'tra...</td>\n      <td>accessoires</td>\n      <td>...</td>\n      <td>False</td>\n      <td>False</td>\n      <td>False</td>\n      <td>False</td>\n      <td>NaN</td>\n      <td>NaN</td>\n      <td>NaN</td>\n      <td>NaN</td>\n      <td>NaN</td>\n      <td>NaN</td>\n    </tr>\n    <tr>\n      <th>2</th>\n      <td>LE221G031-K11</td>\n      <td>ORIGINAL TRUCKER - Veste en jean - soft as but...</td>\n      <td>[XXS, XS, S, M, L, XL]</td>\n      <td>levisr-original-trucker-veste-en-jean-soft-as-...</td>\n      <td>[{'path': 'spp-media-p1/b06b79cb3ac83c549f3008...</td>\n      <td>Levi's®</td>\n      <td>False</td>\n      <td>[]</td>\n      <td>[{'key': 'discountRate', 'value': '-30%', 'tra...</td>\n      <td>clothing</td>\n      <td>...</td>\n      <td>False</td>\n      <td>False</td>\n      <td>False</td>\n      <td>False</td>\n      <td>NaN</td>\n      <td>NaN</td>\n      <td>NaN</td>\n      <td>[{'id': 'z7fZ7k9yR-q', 'url_key': '/outfits/z7...</td>\n      <td>NaN</td>\n      <td>NaN</td>\n    </tr>\n    <tr>\n      <th>3</th>\n      <td>5VA51H0GE-B11</td>\n      <td>Sac à main - ecru</td>\n      <td>[One Size]</td>\n      <td>valentino-by-mario-valentino-sac-a-main-ecru-5...</td>\n      <td>[{'path': 'spp-media-p1/77e0d3b36786329b8f4e3d...</td>\n      <td>Valentino Bags</td>\n      <td>False</td>\n      <td>[]</td>\n      <td>[{'key': 'discountRate', 'value': '-25%', 'tra...</td>\n      <td>accessoires</td>\n      <td>...</td>\n      <td>False</td>\n      <td>False</td>\n      <td>False</td>\n      <td>False</td>\n      <td>NaN</td>\n      <td>NaN</td>\n      <td>NaN</td>\n      <td>NaN</td>\n      <td>NaN</td>\n      <td>NaN</td>\n    </tr>\n    <tr>\n      <th>4</th>\n      <td>LE221N04U-Q11</td>\n      <td>MILE HIGH SUPER SKINNY - Jeans Skinny - black ...</td>\n      <td>[23x28, 23x30, 24x28, 24x30, 24x32, 25x28, 25x...</td>\n      <td>levisr-mile-high-super-skinny-jeans-skinny-le2...</td>\n      <td>[{'path': 'spp-media-p1/df7d6a01a4833214aa11c6...</td>\n      <td>Levi's®</td>\n      <td>False</td>\n      <td>[]</td>\n      <td>[{'key': 'discountRate', 'value': '-30%', 'tra...</td>\n      <td>clothing</td>\n      <td>...</td>\n      <td>False</td>\n      <td>False</td>\n      <td>False</td>\n      <td>False</td>\n      <td>NaN</td>\n      <td>NaN</td>\n      <td>NaN</td>\n      <td>[{'id': 'AThyCLljTFy', 'url_key': '/outfits/AT...</td>\n      <td>NaN</td>\n      <td>NaN</td>\n    </tr>\n  </tbody>\n</table>\n<p>5 rows × 23 columns</p>\n</div>"
     },
     "metadata": {},
     "execution_count": 6
    }
   ],
   "source": [
    "zalando = pd.json_normalize(response['articles'])\n",
    "zalando.head()"
   ]
  },
  {
   "cell_type": "code",
   "execution_count": 7,
   "metadata": {},
   "outputs": [
    {
     "output_type": "stream",
     "name": "stdout",
     "text": [
      "There are 892 pages.\n"
     ]
    }
   ],
   "source": [
    "# 4. Find out the total page count in the 1st page data.\n",
    "pages = response['pagination']['page_count']\n",
    "print(f'There are {pages} pages.')"
   ]
  },
  {
   "cell_type": "code",
   "execution_count": 8,
   "metadata": {},
   "outputs": [],
   "source": [
    "# 5. Use a FOR loop to make requests for the additional pages from 2 to page count. Append the data of each additional page to the flatterned data object.\n",
    "\n",
    "total_articles = []\n",
    "offset = 0\n",
    "\n",
    "for page in range(pages):\n",
    "    total_response = requests.get(url + '&offset='+str(offset), headers=headers).json()\n",
    "    offset = offset + 84\n",
    "    total_articles.append(pd.json_normalize(total_response['articles']))"
   ]
  },
  {
   "cell_type": "code",
   "execution_count": 9,
   "metadata": {},
   "outputs": [
    {
     "output_type": "execute_result",
     "data": {
      "text/plain": [
       "             sku                                               name  \\\n",
       "0  ES421I0H8-K11                                       Gilet - navy   \n",
       "1  ES121E1DG-Q11                            T-shirt imprimé - black   \n",
       "2  LE115O01Q-A11  COURTSET UNISEX - Baskets basses - optical whi...   \n",
       "3  LA251H01P-Q11                                       Cabas - noir   \n",
       "4  LE221G031-K11  ORIGINAL TRUCKER - Veste en jean - soft as but...   \n",
       "\n",
       "                                  sizes  \\\n",
       "0               [S, M, L, XL, XXL, 3XL]   \n",
       "1              [36, 38, 40, 42, 44, 46]   \n",
       "2  [37, 39, 40, 41, 42, 43, 44, 45, 46]   \n",
       "3                            [One Size]   \n",
       "4                [XXS, XS, S, M, L, XL]   \n",
       "\n",
       "                                             url_key  \\\n",
       "0  esprit-collection-cardigan-gilet-navy-es421i0h...   \n",
       "1                  esprit-blouse-black-es121e1dg-q11   \n",
       "2  le-coq-sportif-courtset-unisex-baskets-basses-...   \n",
       "3                  lacoste-cabas-black-la251h01p-q11   \n",
       "4  levisr-original-trucker-veste-en-jean-soft-as-...   \n",
       "\n",
       "                                               media         brand_name  \\\n",
       "0  [{'path': 'spp-media-p1/de329d5209133039a649e3...  Esprit Collection   \n",
       "1  [{'path': 'spp-media-p1/b0516945db5b37b9bc65ab...             Esprit   \n",
       "2  [{'path': 'spp-media-p1/99042f6fcb4f37a89e86f9...     le coq sportif   \n",
       "3  [{'path': 'spp-media-p1/9e976d99d30b39d98b4c59...            Lacoste   \n",
       "4  [{'path': 'spp-media-p1/b06b79cb3ac83c549f3008...            Levi's®   \n",
       "\n",
       "   is_premium family_articles  \\\n",
       "0       False              []   \n",
       "1       False              []   \n",
       "2       False              []   \n",
       "3       False              []   \n",
       "4       False              []   \n",
       "\n",
       "                                               flags product_group  ...  \\\n",
       "0  [{'key': 'discountRate', 'value': '-30%', 'tra...      clothing  ...   \n",
       "1  [{'key': 'discountRate', 'value': 'Jusqu’à -35...      clothing  ...   \n",
       "2  [{'key': 'discountRate', 'value': 'Jusqu’à -30...          shoe  ...   \n",
       "3  [{'key': 'discountRate', 'value': '-30%', 'tra...   accessoires  ...   \n",
       "4  [{'key': 'discountRate', 'value': '-30%', 'tra...      clothing  ...   \n",
       "\n",
       "  price.has_different_promotional_prices  \\\n",
       "0                                  False   \n",
       "1                                   True   \n",
       "2                                   True   \n",
       "3                                  False   \n",
       "4                                  False   \n",
       "\n",
       "  price.has_discount_on_selected_sizes_only  \\\n",
       "0                                     False   \n",
       "1                                     False   \n",
       "2                                     False   \n",
       "3                                     False   \n",
       "4                                     False   \n",
       "\n",
       "        tracking_information.metrigo_impression_urls  \\\n",
       "0  [https://ccp-et.adtechlab.zalan.do/event/sbv?z...   \n",
       "1  [https://ccp-et.adtechlab.zalan.do/event/sbv?z...   \n",
       "2  [https://ccp-et.adtechlab.zalan.do/event/sbv?z...   \n",
       "3                                                NaN   \n",
       "4                                                NaN   \n",
       "\n",
       "              tracking_information.impression_beacon  \\\n",
       "0  https://ccp-et.adtechlab.zalan.do/event/sbv?z=...   \n",
       "1  https://ccp-et.adtechlab.zalan.do/event/sbv?z=...   \n",
       "2  https://ccp-et.adtechlab.zalan.do/event/sbv?z=...   \n",
       "3                                                NaN   \n",
       "4                                                NaN   \n",
       "\n",
       "   tracking_information.source  amount  price.base_price outfits condition  \\\n",
       "0                          ccp     NaN               NaN     NaN       NaN   \n",
       "1                          ccp     NaN               NaN     NaN       NaN   \n",
       "2                          ccp     NaN               NaN     NaN       NaN   \n",
       "3                          NaN     NaN               NaN     NaN       NaN   \n",
       "4                          NaN     NaN               NaN     NaN       NaN   \n",
       "\n",
       "  condition_key  \n",
       "0           NaN  \n",
       "1           NaN  \n",
       "2           NaN  \n",
       "3           NaN  \n",
       "4           NaN  \n",
       "\n",
       "[5 rows x 25 columns]"
      ],
      "text/html": "<div>\n<style scoped>\n    .dataframe tbody tr th:only-of-type {\n        vertical-align: middle;\n    }\n\n    .dataframe tbody tr th {\n        vertical-align: top;\n    }\n\n    .dataframe thead th {\n        text-align: right;\n    }\n</style>\n<table border=\"1\" class=\"dataframe\">\n  <thead>\n    <tr style=\"text-align: right;\">\n      <th></th>\n      <th>sku</th>\n      <th>name</th>\n      <th>sizes</th>\n      <th>url_key</th>\n      <th>media</th>\n      <th>brand_name</th>\n      <th>is_premium</th>\n      <th>family_articles</th>\n      <th>flags</th>\n      <th>product_group</th>\n      <th>...</th>\n      <th>price.has_different_promotional_prices</th>\n      <th>price.has_discount_on_selected_sizes_only</th>\n      <th>tracking_information.metrigo_impression_urls</th>\n      <th>tracking_information.impression_beacon</th>\n      <th>tracking_information.source</th>\n      <th>amount</th>\n      <th>price.base_price</th>\n      <th>outfits</th>\n      <th>condition</th>\n      <th>condition_key</th>\n    </tr>\n  </thead>\n  <tbody>\n    <tr>\n      <th>0</th>\n      <td>ES421I0H8-K11</td>\n      <td>Gilet - navy</td>\n      <td>[S, M, L, XL, XXL, 3XL]</td>\n      <td>esprit-collection-cardigan-gilet-navy-es421i0h...</td>\n      <td>[{'path': 'spp-media-p1/de329d5209133039a649e3...</td>\n      <td>Esprit Collection</td>\n      <td>False</td>\n      <td>[]</td>\n      <td>[{'key': 'discountRate', 'value': '-30%', 'tra...</td>\n      <td>clothing</td>\n      <td>...</td>\n      <td>False</td>\n      <td>False</td>\n      <td>[https://ccp-et.adtechlab.zalan.do/event/sbv?z...</td>\n      <td>https://ccp-et.adtechlab.zalan.do/event/sbv?z=...</td>\n      <td>ccp</td>\n      <td>NaN</td>\n      <td>NaN</td>\n      <td>NaN</td>\n      <td>NaN</td>\n      <td>NaN</td>\n    </tr>\n    <tr>\n      <th>1</th>\n      <td>ES121E1DG-Q11</td>\n      <td>T-shirt imprimé - black</td>\n      <td>[36, 38, 40, 42, 44, 46]</td>\n      <td>esprit-blouse-black-es121e1dg-q11</td>\n      <td>[{'path': 'spp-media-p1/b0516945db5b37b9bc65ab...</td>\n      <td>Esprit</td>\n      <td>False</td>\n      <td>[]</td>\n      <td>[{'key': 'discountRate', 'value': 'Jusqu’à -35...</td>\n      <td>clothing</td>\n      <td>...</td>\n      <td>True</td>\n      <td>False</td>\n      <td>[https://ccp-et.adtechlab.zalan.do/event/sbv?z...</td>\n      <td>https://ccp-et.adtechlab.zalan.do/event/sbv?z=...</td>\n      <td>ccp</td>\n      <td>NaN</td>\n      <td>NaN</td>\n      <td>NaN</td>\n      <td>NaN</td>\n      <td>NaN</td>\n    </tr>\n    <tr>\n      <th>2</th>\n      <td>LE115O01Q-A11</td>\n      <td>COURTSET UNISEX - Baskets basses - optical whi...</td>\n      <td>[37, 39, 40, 41, 42, 43, 44, 45, 46]</td>\n      <td>le-coq-sportif-courtset-unisex-baskets-basses-...</td>\n      <td>[{'path': 'spp-media-p1/99042f6fcb4f37a89e86f9...</td>\n      <td>le coq sportif</td>\n      <td>False</td>\n      <td>[]</td>\n      <td>[{'key': 'discountRate', 'value': 'Jusqu’à -30...</td>\n      <td>shoe</td>\n      <td>...</td>\n      <td>True</td>\n      <td>False</td>\n      <td>[https://ccp-et.adtechlab.zalan.do/event/sbv?z...</td>\n      <td>https://ccp-et.adtechlab.zalan.do/event/sbv?z=...</td>\n      <td>ccp</td>\n      <td>NaN</td>\n      <td>NaN</td>\n      <td>NaN</td>\n      <td>NaN</td>\n      <td>NaN</td>\n    </tr>\n    <tr>\n      <th>3</th>\n      <td>LA251H01P-Q11</td>\n      <td>Cabas - noir</td>\n      <td>[One Size]</td>\n      <td>lacoste-cabas-black-la251h01p-q11</td>\n      <td>[{'path': 'spp-media-p1/9e976d99d30b39d98b4c59...</td>\n      <td>Lacoste</td>\n      <td>False</td>\n      <td>[]</td>\n      <td>[{'key': 'discountRate', 'value': '-30%', 'tra...</td>\n      <td>accessoires</td>\n      <td>...</td>\n      <td>False</td>\n      <td>False</td>\n      <td>NaN</td>\n      <td>NaN</td>\n      <td>NaN</td>\n      <td>NaN</td>\n      <td>NaN</td>\n      <td>NaN</td>\n      <td>NaN</td>\n      <td>NaN</td>\n    </tr>\n    <tr>\n      <th>4</th>\n      <td>LE221G031-K11</td>\n      <td>ORIGINAL TRUCKER - Veste en jean - soft as but...</td>\n      <td>[XXS, XS, S, M, L, XL]</td>\n      <td>levisr-original-trucker-veste-en-jean-soft-as-...</td>\n      <td>[{'path': 'spp-media-p1/b06b79cb3ac83c549f3008...</td>\n      <td>Levi's®</td>\n      <td>False</td>\n      <td>[]</td>\n      <td>[{'key': 'discountRate', 'value': '-30%', 'tra...</td>\n      <td>clothing</td>\n      <td>...</td>\n      <td>False</td>\n      <td>False</td>\n      <td>NaN</td>\n      <td>NaN</td>\n      <td>NaN</td>\n      <td>NaN</td>\n      <td>NaN</td>\n      <td>NaN</td>\n      <td>NaN</td>\n      <td>NaN</td>\n    </tr>\n  </tbody>\n</table>\n<p>5 rows × 25 columns</p>\n</div>"
     },
     "metadata": {},
     "execution_count": 9
    }
   ],
   "source": [
    "promo_femme = pd.concat(total_articles)\n",
    "promo_femme.head()"
   ]
  },
  {
   "cell_type": "code",
   "execution_count": 10,
   "metadata": {},
   "outputs": [
    {
     "output_type": "stream",
     "name": "stdout",
     "text": [
      "<class 'pandas.core.frame.DataFrame'>\nInt64Index: 74928 entries, 0 to 83\nData columns (total 25 columns):\n #   Column                                        Non-Null Count  Dtype \n---  ------                                        --------------  ----- \n 0   sku                                           74928 non-null  object\n 1   name                                          74928 non-null  object\n 2   sizes                                         74928 non-null  object\n 3   url_key                                       74928 non-null  object\n 4   media                                         74928 non-null  object\n 5   brand_name                                    74928 non-null  object\n 6   is_premium                                    74928 non-null  bool  \n 7   family_articles                               74928 non-null  object\n 8   flags                                         74928 non-null  object\n 9   product_group                                 74928 non-null  object\n 10  delivery_promises                             74928 non-null  object\n 11  price.original                                74928 non-null  object\n 12  price.promotional                             74928 non-null  object\n 13  price.has_different_prices                    74928 non-null  bool  \n 14  price.has_different_original_prices           74928 non-null  bool  \n 15  price.has_different_promotional_prices        74928 non-null  bool  \n 16  price.has_discount_on_selected_sizes_only     74928 non-null  bool  \n 17  tracking_information.metrigo_impression_urls  9 non-null      object\n 18  tracking_information.impression_beacon        9 non-null      object\n 19  tracking_information.source                   9 non-null      object\n 20  amount                                        5567 non-null   object\n 21  price.base_price                              3606 non-null   object\n 22  outfits                                       369 non-null    object\n 23  condition                                     446 non-null    object\n 24  condition_key                                 446 non-null    object\ndtypes: bool(5), object(20)\nmemory usage: 12.4+ MB\n"
     ]
    }
   ],
   "source": [
    "promo_femme.info()"
   ]
  },
  {
   "cell_type": "markdown",
   "metadata": {},
   "source": [
    "## Bonus\n",
    "\n",
    "Extract the following information from the data:\n",
    "\n",
    "* The trending brand.\n",
    "\n",
    "* The product(s) with the highest discount.\n",
    "\n",
    "* The sum of discounts of all goods (sum_discounted_prices divided by sum_original_prices)."
   ]
  },
  {
   "cell_type": "code",
   "execution_count": 11,
   "metadata": {
    "collapsed": true
   },
   "outputs": [
    {
     "output_type": "stream",
     "name": "stdout",
     "text": [
      "The trending brand is \"DreiMaster\".\n"
     ]
    }
   ],
   "source": [
    "# Trending brand\n",
    "trending_brand = promo_femme['brand_name'].value_counts().nlargest(1).index[0]\n",
    "print(f'The trending brand is \"{trending_brand}\".')"
   ]
  },
  {
   "cell_type": "code",
   "execution_count": 12,
   "metadata": {},
   "outputs": [
    {
     "output_type": "stream",
     "name": "stdout",
     "text": [
      "The product with the highest discount is \"Sac à main - schwarz\".\n"
     ]
    }
   ],
   "source": [
    "# Product(s) with the highest discount\n",
    "promo_femme['price.original'] = promo_femme['price.original'].apply(lambda price: float((price.split('€')[0]).replace(',', '.')))\n",
    "promo_femme['price.promotional'] = promo_femme['price.promotional'].apply(lambda price: float((price.split('€')[0]).replace(',', '.')))\n",
    "\n",
    "promo_femme['total_discount'] = promo_femme['price.original'] - promo_femme['price.promotional']\n",
    "\n",
    "product_highest_discount = promo_femme.groupby(['name']).sum()['total_discount'].sort_values(ascending=False).nlargest(1).index[0]\n",
    "print(f'The product with the highest discount is \"{product_highest_discount}\".')"
   ]
  },
  {
   "cell_type": "code",
   "execution_count": 14,
   "metadata": {},
   "outputs": [
    {
     "output_type": "stream",
     "name": "stdout",
     "text": [
      "0.7412792155938533\n"
     ]
    }
   ],
   "source": [
    "# Sum of discounts of all goods (sum_discounted_prices divided by sum_original_prices)\n",
    "sum_discounted_prices = promo_femme['price.promotional'].sum()\n",
    "\n",
    "sum_original_prices = promo_femme['price.original'].sum()\n",
    "\n",
    "sum_discounts = sum_discounted_prices / sum_original_prices\n",
    "print(sum_discounts)"
   ]
  }
 ],
 "metadata": {
  "kernelspec": {
   "display_name": "Python 3",
   "language": "python",
   "name": "python3"
  },
  "language_info": {
   "codemirror_mode": {
    "name": "ipython",
    "version": 3
   },
   "file_extension": ".py",
   "mimetype": "text/x-python",
   "name": "python",
   "nbconvert_exporter": "python",
   "pygments_lexer": "ipython3",
   "version": "3.8.5-final"
  }
 },
 "nbformat": 4,
 "nbformat_minor": 2
}